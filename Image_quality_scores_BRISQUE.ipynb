{
  "nbformat": 4,
  "nbformat_minor": 0,
  "metadata": {
    "colab": {
      "provenance": [],
      "authorship_tag": "ABX9TyNb+q4AYLUgD8U1xQa6w4gN",
      "include_colab_link": true
    },
    "kernelspec": {
      "name": "python3",
      "display_name": "Python 3"
    },
    "language_info": {
      "name": "python"
    }
  },
  "cells": [
    {
      "cell_type": "markdown",
      "metadata": {
        "id": "view-in-github",
        "colab_type": "text"
      },
      "source": [
        "<a href=\"https://colab.research.google.com/github/aanyasinghdhaka/Videoqualityassessment/blob/main/Image_quality_scores_BRISQUE.ipynb\" target=\"_parent\"><img src=\"https://colab.research.google.com/assets/colab-badge.svg\" alt=\"Open In Colab\"/></a>"
      ]
    },
    {
      "cell_type": "code",
      "source": [
        "!pip install opencv-python\n",
        "!pip install niqe\n",
        "!pip install brisque\n"
      ],
      "metadata": {
        "id": "lS4rf30UjEd3",
        "colab": {
          "base_uri": "https://localhost:8080/"
        },
        "outputId": "8d87b20a-2094-4ad9-a2b3-1d5f630741dd"
      },
      "execution_count": 14,
      "outputs": [
        {
          "output_type": "stream",
          "name": "stdout",
          "text": [
            "Requirement already satisfied: opencv-python in /usr/local/lib/python3.10/dist-packages (4.8.0.76)\n",
            "Requirement already satisfied: numpy>=1.21.2 in /usr/local/lib/python3.10/dist-packages (from opencv-python) (1.25.2)\n",
            "Requirement already satisfied: niqe in /usr/local/lib/python3.10/dist-packages (0.1.1)\n",
            "Requirement already satisfied: numpy in /usr/local/lib/python3.10/dist-packages (from niqe) (1.25.2)\n",
            "Requirement already satisfied: opencv-python in /usr/local/lib/python3.10/dist-packages (from niqe) (4.8.0.76)\n",
            "Requirement already satisfied: scipy in /usr/local/lib/python3.10/dist-packages (from niqe) (1.11.4)\n",
            "Requirement already satisfied: scikit-image in /usr/local/lib/python3.10/dist-packages (from niqe) (0.19.3)\n",
            "Requirement already satisfied: networkx>=2.2 in /usr/local/lib/python3.10/dist-packages (from scikit-image->niqe) (3.2.1)\n",
            "Requirement already satisfied: pillow!=7.1.0,!=7.1.1,!=8.3.0,>=6.1.0 in /usr/local/lib/python3.10/dist-packages (from scikit-image->niqe) (9.4.0)\n",
            "Requirement already satisfied: imageio>=2.4.1 in /usr/local/lib/python3.10/dist-packages (from scikit-image->niqe) (2.31.6)\n",
            "Requirement already satisfied: tifffile>=2019.7.26 in /usr/local/lib/python3.10/dist-packages (from scikit-image->niqe) (2024.2.12)\n",
            "Requirement already satisfied: PyWavelets>=1.1.1 in /usr/local/lib/python3.10/dist-packages (from scikit-image->niqe) (1.5.0)\n",
            "Requirement already satisfied: packaging>=20.0 in /usr/local/lib/python3.10/dist-packages (from scikit-image->niqe) (24.0)\n",
            "Requirement already satisfied: brisque in /usr/local/lib/python3.10/dist-packages (0.0.15)\n",
            "Requirement already satisfied: numpy in /usr/local/lib/python3.10/dist-packages (from brisque) (1.25.2)\n",
            "Requirement already satisfied: scikit-image in /usr/local/lib/python3.10/dist-packages (from brisque) (0.19.3)\n",
            "Requirement already satisfied: scipy in /usr/local/lib/python3.10/dist-packages (from brisque) (1.11.4)\n",
            "Requirement already satisfied: opencv-python in /usr/local/lib/python3.10/dist-packages (from brisque) (4.8.0.76)\n",
            "Requirement already satisfied: libsvm in /usr/local/lib/python3.10/dist-packages (from brisque) (3.23.0.4)\n",
            "Requirement already satisfied: networkx>=2.2 in /usr/local/lib/python3.10/dist-packages (from scikit-image->brisque) (3.2.1)\n",
            "Requirement already satisfied: pillow!=7.1.0,!=7.1.1,!=8.3.0,>=6.1.0 in /usr/local/lib/python3.10/dist-packages (from scikit-image->brisque) (9.4.0)\n",
            "Requirement already satisfied: imageio>=2.4.1 in /usr/local/lib/python3.10/dist-packages (from scikit-image->brisque) (2.31.6)\n",
            "Requirement already satisfied: tifffile>=2019.7.26 in /usr/local/lib/python3.10/dist-packages (from scikit-image->brisque) (2024.2.12)\n",
            "Requirement already satisfied: PyWavelets>=1.1.1 in /usr/local/lib/python3.10/dist-packages (from scikit-image->brisque) (1.5.0)\n",
            "Requirement already satisfied: packaging>=20.0 in /usr/local/lib/python3.10/dist-packages (from scikit-image->brisque) (24.0)\n"
          ]
        }
      ]
    },
    {
      "cell_type": "code",
      "source": [
        "!pip install --upgrade brisque"
      ],
      "metadata": {
        "colab": {
          "base_uri": "https://localhost:8080/"
        },
        "id": "A1m41lI56VhO",
        "outputId": "308d12dd-c4e1-4566-9338-9efbd2b5f185"
      },
      "execution_count": 15,
      "outputs": [
        {
          "output_type": "stream",
          "name": "stdout",
          "text": [
            "Requirement already satisfied: brisque in /usr/local/lib/python3.10/dist-packages (0.0.15)\n",
            "Requirement already satisfied: numpy in /usr/local/lib/python3.10/dist-packages (from brisque) (1.25.2)\n",
            "Requirement already satisfied: scikit-image in /usr/local/lib/python3.10/dist-packages (from brisque) (0.19.3)\n",
            "Requirement already satisfied: scipy in /usr/local/lib/python3.10/dist-packages (from brisque) (1.11.4)\n",
            "Requirement already satisfied: opencv-python in /usr/local/lib/python3.10/dist-packages (from brisque) (4.8.0.76)\n",
            "Requirement already satisfied: libsvm in /usr/local/lib/python3.10/dist-packages (from brisque) (3.23.0.4)\n",
            "Requirement already satisfied: networkx>=2.2 in /usr/local/lib/python3.10/dist-packages (from scikit-image->brisque) (3.2.1)\n",
            "Requirement already satisfied: pillow!=7.1.0,!=7.1.1,!=8.3.0,>=6.1.0 in /usr/local/lib/python3.10/dist-packages (from scikit-image->brisque) (9.4.0)\n",
            "Requirement already satisfied: imageio>=2.4.1 in /usr/local/lib/python3.10/dist-packages (from scikit-image->brisque) (2.31.6)\n",
            "Requirement already satisfied: tifffile>=2019.7.26 in /usr/local/lib/python3.10/dist-packages (from scikit-image->brisque) (2024.2.12)\n",
            "Requirement already satisfied: PyWavelets>=1.1.1 in /usr/local/lib/python3.10/dist-packages (from scikit-image->brisque) (1.5.0)\n",
            "Requirement already satisfied: packaging>=20.0 in /usr/local/lib/python3.10/dist-packages (from scikit-image->brisque) (24.0)\n"
          ]
        }
      ]
    },
    {
      "cell_type": "code",
      "source": [
        "import requests\n",
        "import cv2\n",
        "from brisque import BRISQUE\n",
        "!pip install numpy\n",
        "import numpy as np\n",
        "!pip install --upgrade brisque\n",
        "import requests\n",
        "import cv2\n",
        "from brisque import BRISQUE\n",
        "import numpy as np\n",
        "\n",
        "# URL of the image\n",
        "image_url = \"https://www.mathworks.com/help/examples/images/win64/CalculateBRISQUEScoreUsingCustomFeatureModelExample_01.png\"\n",
        "\n",
        "# Download the image from the URL\n",
        "response = requests.get(image_url)\n",
        "image_data = response.content\n",
        "\n",
        "# Convert the image data to a NumPy array\n",
        "nparr = np.frombuffer(image_data, np.uint8)\n",
        "\n",
        "# Decode the NumPy array into an OpenCV image\n",
        "image = cv2.imdecode(nparr, cv2.IMREAD_COLOR)\n",
        "\n",
        "# Create a BRISQUE object\n",
        "brisque = BRISQUE()\n",
        "\n",
        "# Calculate the BRISQUE score for the image\n",
        "brisque_score = brisque.score(image)\n",
        "\n",
        "# Print the BRISQUE score\n",
        "print(f\"BRISQUE score: {brisque_score:.2f}\")\n"
      ],
      "metadata": {
        "colab": {
          "base_uri": "https://localhost:8080/"
        },
        "id": "NvJZiqUH5L-P",
        "outputId": "0aec0e91-85eb-4225-f5a3-3278464f19c9"
      },
      "execution_count": 16,
      "outputs": [
        {
          "output_type": "stream",
          "name": "stdout",
          "text": [
            "Requirement already satisfied: numpy in /usr/local/lib/python3.10/dist-packages (1.25.2)\n",
            "Requirement already satisfied: brisque in /usr/local/lib/python3.10/dist-packages (0.0.15)\n",
            "Requirement already satisfied: numpy in /usr/local/lib/python3.10/dist-packages (from brisque) (1.25.2)\n",
            "Requirement already satisfied: scikit-image in /usr/local/lib/python3.10/dist-packages (from brisque) (0.19.3)\n",
            "Requirement already satisfied: scipy in /usr/local/lib/python3.10/dist-packages (from brisque) (1.11.4)\n",
            "Requirement already satisfied: opencv-python in /usr/local/lib/python3.10/dist-packages (from brisque) (4.8.0.76)\n",
            "Requirement already satisfied: libsvm in /usr/local/lib/python3.10/dist-packages (from brisque) (3.23.0.4)\n",
            "Requirement already satisfied: networkx>=2.2 in /usr/local/lib/python3.10/dist-packages (from scikit-image->brisque) (3.2.1)\n",
            "Requirement already satisfied: pillow!=7.1.0,!=7.1.1,!=8.3.0,>=6.1.0 in /usr/local/lib/python3.10/dist-packages (from scikit-image->brisque) (9.4.0)\n",
            "Requirement already satisfied: imageio>=2.4.1 in /usr/local/lib/python3.10/dist-packages (from scikit-image->brisque) (2.31.6)\n",
            "Requirement already satisfied: tifffile>=2019.7.26 in /usr/local/lib/python3.10/dist-packages (from scikit-image->brisque) (2024.2.12)\n",
            "Requirement already satisfied: PyWavelets>=1.1.1 in /usr/local/lib/python3.10/dist-packages (from scikit-image->brisque) (1.5.0)\n",
            "Requirement already satisfied: packaging>=20.0 in /usr/local/lib/python3.10/dist-packages (from scikit-image->brisque) (24.0)\n",
            "BRISQUE score: 73.27\n"
          ]
        }
      ]
    },
    {
      "cell_type": "code",
      "source": [
        "import requests\n",
        "import cv2\n",
        "from brisque import BRISQUE\n",
        "import numpy as np\n",
        "\n",
        "# URL of the image\n",
        "image_url = \"https://www.mathworks.com/help/examples/images/win64/CalculateBRISQUEScoreUsingCustomFeatureModelExample_01.png\"\n",
        "\n",
        "# Download the image from the URL\n",
        "response = requests.get(image_url)\n",
        "image_data = response.content\n",
        "\n",
        "# Convert the image data to a NumPy array\n",
        "nparr = np.frombuffer(image_data, np.uint8)\n",
        "\n",
        "# Decode the NumPy array into an OpenCV image\n",
        "image = cv2.imdecode(nparr, cv2.IMREAD_COLOR)\n",
        "\n",
        "# Create a BRISQUE object\n",
        "brisque = BRISQUE()\n",
        "\n",
        "# Calculate the BRISQUE score for the image\n",
        "brisque_score = brisque.score(image)\n",
        "\n",
        "# Print the BRISQUE score\n",
        "print(f\"BRISQUE score: {brisque_score:.2f}\")\n"
      ],
      "metadata": {
        "colab": {
          "base_uri": "https://localhost:8080/"
        },
        "id": "WcX_o8dF6okO",
        "outputId": "3f3a07b3-605a-4a06-8412-d52ef38b53e8"
      },
      "execution_count": 17,
      "outputs": [
        {
          "output_type": "stream",
          "name": "stdout",
          "text": [
            "BRISQUE score: 73.27\n"
          ]
        }
      ]
    },
    {
      "cell_type": "code",
      "source": [
        "import os\n",
        "from PIL import Image\n",
        "\n",
        "# Create a directory to store images\n",
        "image_dir = 'images'\n",
        "os.makedirs(image_dir, exist_ok=True)\n",
        "\n",
        "# Upload images to the directory using the Jupyter Notebook interface\n",
        "\n",
        "# Once uploaded, you can access the images using their file paths\n",
        "image_path = os.path.join(image_dir, '/content/images/high-resolution-farmhouse-by-lake-er08n33kr7ulrakb.jpg')\n",
        "image = Image.open(image_path)\n",
        "image.show()  # Display the image\n"
      ],
      "metadata": {
        "id": "klJ_ETa4VUFZ"
      },
      "execution_count": 18,
      "outputs": []
    },
    {
      "cell_type": "code",
      "source": [
        "import cv2\n",
        "from brisque import BRISQUE\n",
        "\n",
        "# Path to the image file on your local system\n",
        "image_path = \"/content/images/high-resolution-farmhouse-by-lake-er08n33kr7ulrakb.jpg\"  # Change this to the actual path of your image file\n",
        "\n",
        "# Read the image using OpenCV\n",
        "image = cv2.imread(image_path)\n",
        "\n",
        "# Create a BRISQUE object\n",
        "brisque = BRISQUE()\n",
        "\n",
        "# Calculate the BRISQUE score for the image\n",
        "brisque_score = brisque.score(image)\n",
        "\n",
        "# Print the BRISQUE score\n",
        "print(f\"BRISQUE score: {brisque_score:.2f}\")\n"
      ],
      "metadata": {
        "colab": {
          "base_uri": "https://localhost:8080/"
        },
        "id": "8NebQhBQN_oe",
        "outputId": "638bc360-f808-42d2-9332-0d0464e55fbd"
      },
      "execution_count": 19,
      "outputs": [
        {
          "output_type": "stream",
          "name": "stdout",
          "text": [
            "BRISQUE score: 15.30\n"
          ]
        }
      ]
    },
    {
      "cell_type": "code",
      "source": [
        "# Path to the image file on your local system\n",
        "image_path = \"/content/images/blurred1.jpg\"  # can change this to different images\n",
        "\n",
        "# Read the image using OpenCV\n",
        "image = cv2.imread(image_path)\n",
        "\n",
        "# Create a BRISQUE object\n",
        "brisque = BRISQUE()\n",
        "\n",
        "# Calculate the BRISQUE score for the image\n",
        "brisque_score = brisque.score(image)\n",
        "\n",
        "# Print the BRISQUE score\n",
        "print(f\"BRISQUE score: {brisque_score:.2f}\")"
      ],
      "metadata": {
        "colab": {
          "base_uri": "https://localhost:8080/"
        },
        "id": "atKUMimUOg9k",
        "outputId": "50553ed5-44d0-4db2-ced0-0c814c1c4d1d"
      },
      "execution_count": 20,
      "outputs": [
        {
          "output_type": "stream",
          "name": "stdout",
          "text": [
            "BRISQUE score: 72.96\n"
          ]
        }
      ]
    },
    {
      "cell_type": "code",
      "source": [
        "import cv2\n",
        "from brisque import BRISQUE\n",
        "import numpy as np\n",
        "\n",
        "# Path to the video file\n",
        "video_path = '/content/Videos/0XFBD22BB93EE05C1.avi'\n",
        "\n",
        "# Create a BRISQUE object\n",
        "brisque = BRISQUE()\n",
        "\n",
        "# Initialize a list to store BRISQUE scores of frames\n",
        "brisque_scores = []\n",
        "\n",
        "# Open the video file\n",
        "cap = cv2.VideoCapture(video_path)\n",
        "\n",
        "# Check if the video file is opened successfully\n",
        "if not cap.isOpened():\n",
        "    print(\"Error: Failed to open the video file.\")\n",
        "    exit()\n",
        "\n",
        "# Read and process each frame of the video\n",
        "while True:\n",
        "    # Read a frame from the video\n",
        "    ret, frame = cap.read()\n",
        "\n",
        "    # If the frame is not read successfully, break the loop\n",
        "    if not ret:\n",
        "        break\n",
        "\n",
        "    # Calculate the BRISQUE score for the current frame\n",
        "    frame_score = brisque.score(frame)\n",
        "\n",
        "    # Append the BRISQUE score to the list\n",
        "    brisque_scores.append(frame_score)\n",
        "\n",
        "# Release the video capture object\n",
        "cap.release()\n",
        "\n",
        "# Calculate the mean value of BRISQUE scores\n",
        "mean_brisque_score = np.mean(brisque_scores)\n",
        "\n",
        "# Print the mean value of BRISQUE scores\n",
        "print(\"Mean BRISQUE score of frames:\", mean_brisque_score)\n",
        "\n",
        "\n",
        "\n"
      ],
      "metadata": {
        "colab": {
          "base_uri": "https://localhost:8080/"
        },
        "id": "Om9kXklLAZX4",
        "outputId": "7e1c8318-5f25-474a-c4ef-ba8dd6db960c"
      },
      "execution_count": 21,
      "outputs": [
        {
          "output_type": "stream",
          "name": "stdout",
          "text": [
            "Mean BRISQUE score of frames: 37.98329933537059\n"
          ]
        }
      ]
    },
    {
      "cell_type": "code",
      "source": [
        "import os\n",
        "import cv2\n",
        "from brisque import BRISQUE\n",
        "import numpy as np\n",
        "\n",
        "# Path to the directory containing videos\n",
        "videos_directory = '/content/Videos/'\n",
        "\n",
        "# Create a BRISQUE object\n",
        "brisque = BRISQUE()\n",
        "\n",
        "# Initialize a list to store mean BRISQUE scores of all videos\n",
        "mean_brisque_scores = []\n",
        "\n",
        "# Iterate through each video file in the directory\n",
        "for video_file in os.listdir(videos_directory):\n",
        "    video_path = os.path.join(videos_directory, video_file)\n",
        "\n",
        "    # Open the video file\n",
        "    cap = cv2.VideoCapture(video_path)\n",
        "\n",
        "    # Check if the video file is opened successfully\n",
        "    if not cap.isOpened():\n",
        "        print(f\"Error: Failed to open the video file '{video_file}'.\")\n",
        "        continue\n",
        "\n",
        "    # Initialize a list to store BRISQUE scores of frames in the current video\n",
        "    brisque_scores = []\n",
        "\n",
        "    # Read and process each frame of the video\n",
        "    while True:\n",
        "        # Read a frame from the video\n",
        "        ret, frame = cap.read()\n",
        "\n",
        "        # If the frame is not read successfully, break the loop\n",
        "        if not ret:\n",
        "            break\n",
        "\n",
        "        # Calculate the BRISQUE score for the current frame\n",
        "        frame_score = brisque.score(frame)\n",
        "\n",
        "        # Append the BRISQUE score to the list\n",
        "        brisque_scores.append(frame_score)\n",
        "\n",
        "    # Release the video capture object\n",
        "    cap.release()\n",
        "\n",
        "    # Calculate the mean value of BRISQUE scores for the current video\n",
        "    mean_brisque_score = np.mean(brisque_scores)\n",
        "\n",
        "    # Append the mean BRISQUE score to the list\n",
        "    mean_brisque_scores.append(mean_brisque_score)\n",
        "\n",
        "    # Print the mean BRISQUE score for the current video\n",
        "    print(f\"Mean BRISQUE score for '{video_file}': {mean_brisque_score}\")\n",
        "\n",
        "# Print the list of mean BRISQUE scores for all videos\n",
        "print(\"List of mean BRISQUE scores for all videos:\")\n",
        "for i, score in enumerate(mean_brisque_scores, start=1):\n",
        "    print(f\"Video {i}: {score}\")\n"
      ],
      "metadata": {
        "colab": {
          "base_uri": "https://localhost:8080/"
        },
        "id": "njeTFuNJZc_N",
        "outputId": "d442e3b5-c51d-4883-c2df-2f6f475f4642"
      },
      "execution_count": 22,
      "outputs": [
        {
          "output_type": "stream",
          "name": "stdout",
          "text": [
            "Mean BRISQUE score for '0XFBD22BB93EE05C1.avi': 37.98329933537059\n",
            "Mean BRISQUE score for '0XFC6499D603B9E1E.avi': 32.860129571249\n",
            "Mean BRISQUE score for '0XFD513BE6D49349F.avi': 31.827829465254155\n",
            "Mean BRISQUE score for '0XFCB2810C93F7F5D.avi': 29.45622021025724\n",
            "Mean BRISQUE score for '0XFCDC29AA6B8E83B.avi': 50.066374314097764\n",
            "Mean BRISQUE score for '0XFD06AD51C6DA6E5.avi': 59.833666645288055\n",
            "Mean BRISQUE score for '0XFC193B557F698B6.avi': 33.10362431365464\n",
            "Mean BRISQUE score for '0XFC2F8325071BDC2.avi': 30.964202569288577\n",
            "Mean BRISQUE score for '0XFCC2AF8E23AFBA8.avi': 25.518844416026916\n",
            "Mean BRISQUE score for '0XFCF860A2A9C211.avi': 31.379632931863902\n",
            "List of mean BRISQUE scores for all videos:\n",
            "Video 1: 37.98329933537059\n",
            "Video 2: 32.860129571249\n",
            "Video 3: 31.827829465254155\n",
            "Video 4: 29.45622021025724\n",
            "Video 5: 50.066374314097764\n",
            "Video 6: 59.833666645288055\n",
            "Video 7: 33.10362431365464\n",
            "Video 8: 30.964202569288577\n",
            "Video 9: 25.518844416026916\n",
            "Video 10: 31.379632931863902\n"
          ]
        }
      ]
    },
    {
      "cell_type": "markdown",
      "source": [
        "We can see that video 5 ,6 have lower quality than the others and should not be used in the training or predictions."
      ],
      "metadata": {
        "id": "tadIcntWZo_2"
      }
    }
  ]
}